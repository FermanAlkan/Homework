{
 "cells": [
  {
   "cell_type": "code",
   "execution_count": null,
   "metadata": {},
   "outputs": [
    {
     "name": "stdout",
     "output_type": "stream",
     "text": [
      "Student Management System\n"
     ]
    }
   ],
   "source": [
    "import sys\n",
    "print(\"Student Management System\")\n",
    "check=False\n",
    "Name=\"Ferman\"\n",
    "Surname=\"Alkan\"\n",
    "for x in range(3):\n",
    "    name=input(\"Lütfen adınızı giriniz: \")\n",
    "    surname=input(\"Lütfen soyadınızı giriniz: \")\n",
    "    if (name==Name and surname==Surname):\n",
    "        print(\"Welcome\")\n",
    "        check=True\n",
    "        break\n",
    "if not check:\n",
    "    sys.exit(\"Please try again later\")\n",
    "    \n",
    "Courses=[]\n",
    "Number_of_Courses=int(input(\"Please write how many courses will you take: \"))\n",
    "if Number_of_Courses<0:\n",
    "    sys.exit(\"You wrote an unvalid number\")\n",
    "elif 0<=Number_of_Courses<3:\n",
    "    sys.exit(\"You failed in class\")\n",
    "elif 3<=Number_of_Courses<=5:\n",
    "    while True:\n",
    "        Course=input(str(\"Please write the course name you take: \"))\n",
    "        Courses.append(Course)\n",
    "        if len(Courses)==Number_of_Courses:\n",
    "            print(\"Courses: \", list(Courses))\n",
    "            break\n",
    "else:\n",
    "    sys.exit(\"You can take a maximum of 5 courses\")\n",
    "    \n",
    "Exam_Course=(input(\"Choose one of the course you take exam: \"))\n",
    "if Exam_Course not in list(Courses):\n",
    "    sys.exit(\"You do not have this course\")\n",
    "else:\n",
    "    print(Exam_Course)\n",
    "    \n",
    "A={}\n",
    "Midterm_Grade=float(input(\"Please write your midterm grade: \"))\n",
    "Final_Grade=float(input(\"Please write your final grade: \"))\n",
    "Project_Grade=float(input(\"Please write your project grade: \"))\n",
    "A[\"Midterm_Grade\"]=Midterm_Grade\n",
    "A[\"Final_Grade\"]=Final_Grade\n",
    "A[\"Project_Grade\"]=Project_Grade\n",
    "print(A)\n",
    "\n",
    "Midterm_Grade_Point=Midterm_Grade*0.3\n",
    "Final_Grade_Point=Final_Grade*0.5\n",
    "Project_Grade_Point=Project_Grade*0.2\n",
    "Passing_Grade=Midterm_Grade_Point+Final_Grade_Point+Project_Grade_Point\n",
    "Passing_Grade\n",
    "if 0<=Passing_Grade<30:\n",
    "    print(\"You got FF and FAILED\")\n",
    "elif 30<=Passing_Grade<50:\n",
    "    print(\"You got DD\")\n",
    "elif 50<=Passing_Grade<70:\n",
    "    print(\"You got CC\")\n",
    "elif 70<=Passing_Grade<90:\n",
    "    print(\"You got BB\")\n",
    "elif 90<=Passing_Grade<=100:\n",
    "    print(\"You got AA\")\n",
    "else:\n",
    "    sys.exit(\"Invalid number!\")"
   ]
  },
  {
   "cell_type": "code",
   "execution_count": null,
   "metadata": {},
   "outputs": [],
   "source": []
  }
 ],
 "metadata": {
  "kernelspec": {
   "display_name": "Python 3",
   "language": "python",
   "name": "python3"
  },
  "language_info": {
   "codemirror_mode": {
    "name": "ipython",
    "version": 3
   },
   "file_extension": ".py",
   "mimetype": "text/x-python",
   "name": "python",
   "nbconvert_exporter": "python",
   "pygments_lexer": "ipython3",
   "version": "3.9.0"
  }
 },
 "nbformat": 4,
 "nbformat_minor": 4
}
